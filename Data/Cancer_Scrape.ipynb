{
 "cells": [
  {
   "cell_type": "code",
   "execution_count": 1,
   "metadata": {},
   "outputs": [],
   "source": [
    "# Import dependencies and setup\n",
    "from splinter import Browser\n",
    "from bs4 import BeautifulSoup as bs\n",
    "import pandas as pd\n",
    "import time"
   ]
  },
  {
   "cell_type": "code",
   "execution_count": 2,
   "metadata": {},
   "outputs": [],
   "source": [
    "# Intialize brower\n",
    "executable_path = {\"executable_path\": \"chromedriver.exe\"}\n",
    "browser = Browser(\"chrome\", **executable_path, headless=False)"
   ]
  },
  {
   "cell_type": "code",
   "execution_count": 3,
   "metadata": {},
   "outputs": [],
   "source": [
    "# Cancer News Site\n",
    "url = \"https://www.cancer.gov/news-events\"\n",
    "browser.visit(url)\n",
    "\n",
    "# Allow page to load\n",
    "time.sleep(1) \n",
    "\n",
    "# Scrape page into Soup\n",
    "html = browser.html\n",
    "soup = bs(html, \"html.parser\")"
   ]
  },
  {
   "cell_type": "code",
   "execution_count": 4,
   "metadata": {},
   "outputs": [
    {
     "name": "stdout",
     "output_type": "stream",
     "text": [
      "{'article_title': 'NCI Study Reinforces New Cancer Treatment Idea', 'article_text': 'The potential approach is for people with microsatellite instability-high cancer.', 'news_url': 'https://www.cancer.gov/news-events/cancer-currents-blog/2020/microsatellite-instability-cancer-wrn'}\n"
     ]
    }
   ],
   "source": [
    "# Create empty dictionary\n",
    "news_data = {}\n",
    "\n",
    "# Retrieving the latest news title and text, and adding to dictionary\n",
    "article = soup.find('div', class_= 'feature-card')\n",
    "news_data['article_title'] = article.find('h3').text\n",
    "#print(news_data)\n",
    "news_data['article_text'] = article.find('p').text\n",
    "\n",
    "# Retrieving the news url and adding to dictionary\n",
    "news_data['news_url'] = \"https://www.cancer.gov\" + article.find('a')['href']\n",
    "\n",
    "print(news_data)"
   ]
  },
  {
   "cell_type": "code",
   "execution_count": 5,
   "metadata": {},
   "outputs": [
    {
     "name": "stdout",
     "output_type": "stream",
     "text": [
      "{'article_title': 'NCI Study Reinforces New Cancer Treatment Idea', 'article_text': 'The potential approach is for people with microsatellite instability-high cancer.', 'news_url': 'https://www.cancer.gov/news-events/cancer-currents-blog/2020/microsatellite-instability-cancer-wrn', 'date': 'October 2, 2020'}\n"
     ]
    }
   ],
   "source": [
    "# Click first news article\n",
    "browser.find_by_css('div.image-hover').click()\n",
    "# Retrieving date and adding to dictionary\n",
    "news_data['date'] = browser.find_by_css('time').text\n",
    "print(news_data)"
   ]
  },
  {
   "cell_type": "code",
   "execution_count": null,
   "metadata": {},
   "outputs": [],
   "source": []
  }
 ],
 "metadata": {
  "kernelspec": {
   "display_name": "Python 3",
   "language": "python",
   "name": "python3"
  },
  "language_info": {
   "codemirror_mode": {
    "name": "ipython",
    "version": 3
   },
   "file_extension": ".py",
   "mimetype": "text/x-python",
   "name": "python",
   "nbconvert_exporter": "python",
   "pygments_lexer": "ipython3",
   "version": "3.7.6"
  }
 },
 "nbformat": 4,
 "nbformat_minor": 4
}
